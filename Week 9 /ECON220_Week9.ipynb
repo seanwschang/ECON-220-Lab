{
 "cells": [
  {
   "cell_type": "markdown",
   "metadata": {},
   "source": [
    "# ECON 220 Lab - Week 9"
   ]
  },
  {
   "cell_type": "markdown",
   "metadata": {},
   "source": [
    "Justin S. Eloriaga"
   ]
  },
  {
   "cell_type": "markdown",
   "metadata": {},
   "source": [
    "Today, our main goal is REPLICATION. This is a vital skill in economic research. One good way to learn is to be able to replicate past work and really understand what was going on. This is also usually done to check if codes or analysis done by other researchers were reasonably correct."
   ]
  },
  {
   "cell_type": "markdown",
   "metadata": {},
   "source": [
    "We will be using the classic example, probably one of the most read Economics papers of all time, Card and Krueger's paper on Minimum Wages. Feel free to read it here: https://davidcard.berkeley.edu/papers/njmin-aer.pdf  "
   ]
  },
  {
   "cell_type": "markdown",
   "metadata": {},
   "source": [
    "Typical Econ Theory: When minimum wages go up, firms want to cut back, hence, employment is reduced. "
   ]
  },
  {
   "cell_type": "markdown",
   "metadata": {},
   "source": [
    "The abstract of Card and Krueger (1993): On April 1, 1992, New Jersey's minimum wage rose from $4.25 to $5.05 per\n",
    "hour. To evaluate the impact of the law we surveyed 410 fast-food restaurants in\n",
    "New Jersey and eastern Pennsylvania before and after the rise. Comparisons of\n",
    "employment growth at stores in New Jersey and Pennsylvania (where the\n",
    "minimum wage was constant) provide simple estimates of the effect of the higher\n",
    "minimum wage. We also compare employment changes at stores in New Jersey\n",
    "that were initially paying high wages (above $5) to the changes at lower-wage\n",
    "stores. We find no indication that the rise in the minimum wage reduced\n",
    "employment"
   ]
  },
  {
   "cell_type": "markdown",
   "metadata": {},
   "source": [
    "As usual, let's start by importing the libraries"
   ]
  },
  {
   "cell_type": "code",
   "execution_count": 1,
   "metadata": {},
   "outputs": [],
   "source": [
    "import pandas as pd\n",
    "import numpy as np\n",
    "import matplotlib.pyplot as plt"
   ]
  },
  {
   "cell_type": "markdown",
   "metadata": {},
   "source": [
    "Let's load the dataset"
   ]
  },
  {
   "cell_type": "code",
   "execution_count": 30,
   "metadata": {},
   "outputs": [
    {
     "data": {
      "text/html": [
       "<div>\n",
       "<style scoped>\n",
       "    .dataframe tbody tr th:only-of-type {\n",
       "        vertical-align: middle;\n",
       "    }\n",
       "\n",
       "    .dataframe tbody tr th {\n",
       "        vertical-align: top;\n",
       "    }\n",
       "\n",
       "    .dataframe thead th {\n",
       "        text-align: right;\n",
       "    }\n",
       "</style>\n",
       "<table border=\"1\" class=\"dataframe\">\n",
       "  <thead>\n",
       "    <tr style=\"text-align: right;\">\n",
       "      <th></th>\n",
       "      <th>sheet</th>\n",
       "      <th>chain</th>\n",
       "      <th>co_owned</th>\n",
       "      <th>state</th>\n",
       "      <th>southj</th>\n",
       "      <th>centralj</th>\n",
       "      <th>northj</th>\n",
       "      <th>pa1</th>\n",
       "      <th>pa2</th>\n",
       "      <th>shore</th>\n",
       "      <th>...</th>\n",
       "      <th>firstin2</th>\n",
       "      <th>special2</th>\n",
       "      <th>meals2</th>\n",
       "      <th>open2r</th>\n",
       "      <th>hrsopen2</th>\n",
       "      <th>psoda2</th>\n",
       "      <th>pfry2</th>\n",
       "      <th>pentree2</th>\n",
       "      <th>nregs2</th>\n",
       "      <th>nregs112</th>\n",
       "    </tr>\n",
       "  </thead>\n",
       "  <tbody>\n",
       "    <tr>\n",
       "      <th>0</th>\n",
       "      <td>46</td>\n",
       "      <td>1</td>\n",
       "      <td>0</td>\n",
       "      <td>0</td>\n",
       "      <td>0</td>\n",
       "      <td>0</td>\n",
       "      <td>0</td>\n",
       "      <td>1</td>\n",
       "      <td>0</td>\n",
       "      <td>0</td>\n",
       "      <td>...</td>\n",
       "      <td>0.08</td>\n",
       "      <td>1.0</td>\n",
       "      <td>2.0</td>\n",
       "      <td>6.5</td>\n",
       "      <td>16.5</td>\n",
       "      <td>1.03</td>\n",
       "      <td>NaN</td>\n",
       "      <td>0.94</td>\n",
       "      <td>4.0</td>\n",
       "      <td>4.0</td>\n",
       "    </tr>\n",
       "    <tr>\n",
       "      <th>1</th>\n",
       "      <td>49</td>\n",
       "      <td>2</td>\n",
       "      <td>0</td>\n",
       "      <td>0</td>\n",
       "      <td>0</td>\n",
       "      <td>0</td>\n",
       "      <td>0</td>\n",
       "      <td>1</td>\n",
       "      <td>0</td>\n",
       "      <td>0</td>\n",
       "      <td>...</td>\n",
       "      <td>0.05</td>\n",
       "      <td>0.0</td>\n",
       "      <td>2.0</td>\n",
       "      <td>10.0</td>\n",
       "      <td>13.0</td>\n",
       "      <td>1.01</td>\n",
       "      <td>0.89</td>\n",
       "      <td>2.35</td>\n",
       "      <td>4.0</td>\n",
       "      <td>4.0</td>\n",
       "    </tr>\n",
       "    <tr>\n",
       "      <th>2</th>\n",
       "      <td>506</td>\n",
       "      <td>2</td>\n",
       "      <td>1</td>\n",
       "      <td>0</td>\n",
       "      <td>0</td>\n",
       "      <td>0</td>\n",
       "      <td>0</td>\n",
       "      <td>1</td>\n",
       "      <td>0</td>\n",
       "      <td>0</td>\n",
       "      <td>...</td>\n",
       "      <td>0.25</td>\n",
       "      <td>NaN</td>\n",
       "      <td>1.0</td>\n",
       "      <td>11.0</td>\n",
       "      <td>11.0</td>\n",
       "      <td>0.95</td>\n",
       "      <td>0.74</td>\n",
       "      <td>2.33</td>\n",
       "      <td>4.0</td>\n",
       "      <td>3.0</td>\n",
       "    </tr>\n",
       "    <tr>\n",
       "      <th>3</th>\n",
       "      <td>56</td>\n",
       "      <td>4</td>\n",
       "      <td>1</td>\n",
       "      <td>0</td>\n",
       "      <td>0</td>\n",
       "      <td>0</td>\n",
       "      <td>0</td>\n",
       "      <td>1</td>\n",
       "      <td>0</td>\n",
       "      <td>0</td>\n",
       "      <td>...</td>\n",
       "      <td>0.15</td>\n",
       "      <td>0.0</td>\n",
       "      <td>2.0</td>\n",
       "      <td>10.0</td>\n",
       "      <td>12.0</td>\n",
       "      <td>0.92</td>\n",
       "      <td>0.79</td>\n",
       "      <td>0.87</td>\n",
       "      <td>2.0</td>\n",
       "      <td>2.0</td>\n",
       "    </tr>\n",
       "    <tr>\n",
       "      <th>4</th>\n",
       "      <td>61</td>\n",
       "      <td>4</td>\n",
       "      <td>1</td>\n",
       "      <td>0</td>\n",
       "      <td>0</td>\n",
       "      <td>0</td>\n",
       "      <td>0</td>\n",
       "      <td>1</td>\n",
       "      <td>0</td>\n",
       "      <td>0</td>\n",
       "      <td>...</td>\n",
       "      <td>0.15</td>\n",
       "      <td>0.0</td>\n",
       "      <td>2.0</td>\n",
       "      <td>10.0</td>\n",
       "      <td>12.0</td>\n",
       "      <td>1.01</td>\n",
       "      <td>0.84</td>\n",
       "      <td>0.95</td>\n",
       "      <td>2.0</td>\n",
       "      <td>2.0</td>\n",
       "    </tr>\n",
       "    <tr>\n",
       "      <th>...</th>\n",
       "      <td>...</td>\n",
       "      <td>...</td>\n",
       "      <td>...</td>\n",
       "      <td>...</td>\n",
       "      <td>...</td>\n",
       "      <td>...</td>\n",
       "      <td>...</td>\n",
       "      <td>...</td>\n",
       "      <td>...</td>\n",
       "      <td>...</td>\n",
       "      <td>...</td>\n",
       "      <td>...</td>\n",
       "      <td>...</td>\n",
       "      <td>...</td>\n",
       "      <td>...</td>\n",
       "      <td>...</td>\n",
       "      <td>...</td>\n",
       "      <td>...</td>\n",
       "      <td>...</td>\n",
       "      <td>...</td>\n",
       "      <td>...</td>\n",
       "    </tr>\n",
       "    <tr>\n",
       "      <th>405</th>\n",
       "      <td>423</td>\n",
       "      <td>2</td>\n",
       "      <td>1</td>\n",
       "      <td>1</td>\n",
       "      <td>0</td>\n",
       "      <td>0</td>\n",
       "      <td>1</td>\n",
       "      <td>0</td>\n",
       "      <td>0</td>\n",
       "      <td>0</td>\n",
       "      <td>...</td>\n",
       "      <td>0.50</td>\n",
       "      <td>0.0</td>\n",
       "      <td>1.0</td>\n",
       "      <td>11.0</td>\n",
       "      <td>11.0</td>\n",
       "      <td>1.05</td>\n",
       "      <td>0.84</td>\n",
       "      <td>2.32</td>\n",
       "      <td>3.0</td>\n",
       "      <td>2.0</td>\n",
       "    </tr>\n",
       "    <tr>\n",
       "      <th>406</th>\n",
       "      <td>424</td>\n",
       "      <td>2</td>\n",
       "      <td>1</td>\n",
       "      <td>1</td>\n",
       "      <td>0</td>\n",
       "      <td>0</td>\n",
       "      <td>1</td>\n",
       "      <td>0</td>\n",
       "      <td>0</td>\n",
       "      <td>0</td>\n",
       "      <td>...</td>\n",
       "      <td>0.50</td>\n",
       "      <td>0.0</td>\n",
       "      <td>1.0</td>\n",
       "      <td>11.0</td>\n",
       "      <td>14.0</td>\n",
       "      <td>1.05</td>\n",
       "      <td>0.94</td>\n",
       "      <td>2.32</td>\n",
       "      <td>5.0</td>\n",
       "      <td>3.0</td>\n",
       "    </tr>\n",
       "    <tr>\n",
       "      <th>407</th>\n",
       "      <td>426</td>\n",
       "      <td>3</td>\n",
       "      <td>1</td>\n",
       "      <td>1</td>\n",
       "      <td>0</td>\n",
       "      <td>0</td>\n",
       "      <td>1</td>\n",
       "      <td>0</td>\n",
       "      <td>0</td>\n",
       "      <td>0</td>\n",
       "      <td>...</td>\n",
       "      <td>0.25</td>\n",
       "      <td>1.0</td>\n",
       "      <td>2.0</td>\n",
       "      <td>6.0</td>\n",
       "      <td>18.0</td>\n",
       "      <td>1.11</td>\n",
       "      <td>1.05</td>\n",
       "      <td>1.05</td>\n",
       "      <td>6.0</td>\n",
       "      <td>5.0</td>\n",
       "    </tr>\n",
       "    <tr>\n",
       "      <th>408</th>\n",
       "      <td>427</td>\n",
       "      <td>4</td>\n",
       "      <td>0</td>\n",
       "      <td>1</td>\n",
       "      <td>0</td>\n",
       "      <td>0</td>\n",
       "      <td>1</td>\n",
       "      <td>0</td>\n",
       "      <td>0</td>\n",
       "      <td>0</td>\n",
       "      <td>...</td>\n",
       "      <td>NaN</td>\n",
       "      <td>1.0</td>\n",
       "      <td>2.0</td>\n",
       "      <td>10.5</td>\n",
       "      <td>12.5</td>\n",
       "      <td>1.11</td>\n",
       "      <td>1.09</td>\n",
       "      <td>2.07</td>\n",
       "      <td>2.0</td>\n",
       "      <td>2.0</td>\n",
       "    </tr>\n",
       "    <tr>\n",
       "      <th>409</th>\n",
       "      <td>428</td>\n",
       "      <td>4</td>\n",
       "      <td>0</td>\n",
       "      <td>1</td>\n",
       "      <td>0</td>\n",
       "      <td>0</td>\n",
       "      <td>1</td>\n",
       "      <td>0</td>\n",
       "      <td>0</td>\n",
       "      <td>0</td>\n",
       "      <td>...</td>\n",
       "      <td>0.10</td>\n",
       "      <td>0.0</td>\n",
       "      <td>2.0</td>\n",
       "      <td>10.5</td>\n",
       "      <td>12.5</td>\n",
       "      <td>1.05</td>\n",
       "      <td>0.89</td>\n",
       "      <td>2.11</td>\n",
       "      <td>2.0</td>\n",
       "      <td>2.0</td>\n",
       "    </tr>\n",
       "  </tbody>\n",
       "</table>\n",
       "<p>410 rows × 46 columns</p>\n",
       "</div>"
      ],
      "text/plain": [
       "     sheet  chain  co_owned  state  southj  centralj  northj  pa1  pa2  shore  \\\n",
       "0       46      1         0      0       0         0       0    1    0      0   \n",
       "1       49      2         0      0       0         0       0    1    0      0   \n",
       "2      506      2         1      0       0         0       0    1    0      0   \n",
       "3       56      4         1      0       0         0       0    1    0      0   \n",
       "4       61      4         1      0       0         0       0    1    0      0   \n",
       "..     ...    ...       ...    ...     ...       ...     ...  ...  ...    ...   \n",
       "405    423      2         1      1       0         0       1    0    0      0   \n",
       "406    424      2         1      1       0         0       1    0    0      0   \n",
       "407    426      3         1      1       0         0       1    0    0      0   \n",
       "408    427      4         0      1       0         0       1    0    0      0   \n",
       "409    428      4         0      1       0         0       1    0    0      0   \n",
       "\n",
       "     ...  firstin2  special2  meals2  open2r  hrsopen2  psoda2  pfry2  \\\n",
       "0    ...      0.08       1.0     2.0     6.5      16.5    1.03    NaN   \n",
       "1    ...      0.05       0.0     2.0    10.0      13.0    1.01   0.89   \n",
       "2    ...      0.25       NaN     1.0    11.0      11.0    0.95   0.74   \n",
       "3    ...      0.15       0.0     2.0    10.0      12.0    0.92   0.79   \n",
       "4    ...      0.15       0.0     2.0    10.0      12.0    1.01   0.84   \n",
       "..   ...       ...       ...     ...     ...       ...     ...    ...   \n",
       "405  ...      0.50       0.0     1.0    11.0      11.0    1.05   0.84   \n",
       "406  ...      0.50       0.0     1.0    11.0      14.0    1.05   0.94   \n",
       "407  ...      0.25       1.0     2.0     6.0      18.0    1.11   1.05   \n",
       "408  ...       NaN       1.0     2.0    10.5      12.5    1.11   1.09   \n",
       "409  ...      0.10       0.0     2.0    10.5      12.5    1.05   0.89   \n",
       "\n",
       "     pentree2  nregs2  nregs112  \n",
       "0        0.94     4.0       4.0  \n",
       "1        2.35     4.0       4.0  \n",
       "2        2.33     4.0       3.0  \n",
       "3        0.87     2.0       2.0  \n",
       "4        0.95     2.0       2.0  \n",
       "..        ...     ...       ...  \n",
       "405      2.32     3.0       2.0  \n",
       "406      2.32     5.0       3.0  \n",
       "407      1.05     6.0       5.0  \n",
       "408      2.07     2.0       2.0  \n",
       "409      2.11     2.0       2.0  \n",
       "\n",
       "[410 rows x 46 columns]"
      ]
     },
     "execution_count": 30,
     "metadata": {},
     "output_type": "execute_result"
    }
   ],
   "source": [
    "path = \"/Users/justineloriaga/Documents/GitHub/ECON-220-Lab/Week 9/minwage_data.csv\"\n",
    "data = pd.read_csv(path)\n",
    "data\n"
   ]
  },
  {
   "cell_type": "markdown",
   "metadata": {},
   "source": [
    "Let me do some comands to clean this dataset. "
   ]
  },
  {
   "cell_type": "code",
   "execution_count": 31,
   "metadata": {},
   "outputs": [
    {
     "data": {
      "text/html": [
       "<div>\n",
       "<style scoped>\n",
       "    .dataframe tbody tr th:only-of-type {\n",
       "        vertical-align: middle;\n",
       "    }\n",
       "\n",
       "    .dataframe tbody tr th {\n",
       "        vertical-align: top;\n",
       "    }\n",
       "\n",
       "    .dataframe thead th {\n",
       "        text-align: right;\n",
       "    }\n",
       "</style>\n",
       "<table border=\"1\" class=\"dataframe\">\n",
       "  <thead>\n",
       "    <tr style=\"text-align: right;\">\n",
       "      <th></th>\n",
       "      <th>id</th>\n",
       "      <th>period</th>\n",
       "      <th>date2</th>\n",
       "      <th>firstin2</th>\n",
       "      <th>pa2</th>\n",
       "      <th>special2</th>\n",
       "      <th>type2</th>\n",
       "      <th>sheet</th>\n",
       "      <th>chain</th>\n",
       "      <th>co_owned</th>\n",
       "      <th>...</th>\n",
       "      <th>meals</th>\n",
       "      <th>open</th>\n",
       "      <th>hrsopen</th>\n",
       "      <th>psoda</th>\n",
       "      <th>pfry</th>\n",
       "      <th>pentree</th>\n",
       "      <th>nregs</th>\n",
       "      <th>nregs11</th>\n",
       "      <th>status</th>\n",
       "      <th>open2r</th>\n",
       "    </tr>\n",
       "  </thead>\n",
       "  <tbody>\n",
       "    <tr>\n",
       "      <th>0</th>\n",
       "      <td>0</td>\n",
       "      <td>1</td>\n",
       "      <td>111792</td>\n",
       "      <td>0.08</td>\n",
       "      <td>0</td>\n",
       "      <td>1.0</td>\n",
       "      <td>1</td>\n",
       "      <td>46.0</td>\n",
       "      <td>1.0</td>\n",
       "      <td>0.0</td>\n",
       "      <td>...</td>\n",
       "      <td>2.0</td>\n",
       "      <td>6.5</td>\n",
       "      <td>16.5</td>\n",
       "      <td>1.03</td>\n",
       "      <td>1.03</td>\n",
       "      <td>0.52</td>\n",
       "      <td>3.0</td>\n",
       "      <td>3.0</td>\n",
       "      <td>1.0</td>\n",
       "      <td>6.5</td>\n",
       "    </tr>\n",
       "    <tr>\n",
       "      <th>1</th>\n",
       "      <td>0</td>\n",
       "      <td>2</td>\n",
       "      <td>111792</td>\n",
       "      <td>0.08</td>\n",
       "      <td>0</td>\n",
       "      <td>1.0</td>\n",
       "      <td>1</td>\n",
       "      <td>NaN</td>\n",
       "      <td>NaN</td>\n",
       "      <td>NaN</td>\n",
       "      <td>...</td>\n",
       "      <td>2.0</td>\n",
       "      <td>NaN</td>\n",
       "      <td>16.5</td>\n",
       "      <td>1.03</td>\n",
       "      <td>NaN</td>\n",
       "      <td>0.94</td>\n",
       "      <td>4.0</td>\n",
       "      <td>4.0</td>\n",
       "      <td>1.0</td>\n",
       "      <td>NaN</td>\n",
       "    </tr>\n",
       "    <tr>\n",
       "      <th>2</th>\n",
       "      <td>0</td>\n",
       "      <td>111</td>\n",
       "      <td>111792</td>\n",
       "      <td>0.08</td>\n",
       "      <td>0</td>\n",
       "      <td>1.0</td>\n",
       "      <td>1</td>\n",
       "      <td>NaN</td>\n",
       "      <td>NaN</td>\n",
       "      <td>NaN</td>\n",
       "      <td>...</td>\n",
       "      <td>NaN</td>\n",
       "      <td>NaN</td>\n",
       "      <td>NaN</td>\n",
       "      <td>NaN</td>\n",
       "      <td>NaN</td>\n",
       "      <td>NaN</td>\n",
       "      <td>3.0</td>\n",
       "      <td>NaN</td>\n",
       "      <td>1.0</td>\n",
       "      <td>NaN</td>\n",
       "    </tr>\n",
       "    <tr>\n",
       "      <th>3</th>\n",
       "      <td>0</td>\n",
       "      <td>112</td>\n",
       "      <td>111792</td>\n",
       "      <td>0.08</td>\n",
       "      <td>0</td>\n",
       "      <td>1.0</td>\n",
       "      <td>1</td>\n",
       "      <td>NaN</td>\n",
       "      <td>NaN</td>\n",
       "      <td>NaN</td>\n",
       "      <td>...</td>\n",
       "      <td>NaN</td>\n",
       "      <td>NaN</td>\n",
       "      <td>NaN</td>\n",
       "      <td>NaN</td>\n",
       "      <td>NaN</td>\n",
       "      <td>NaN</td>\n",
       "      <td>4.0</td>\n",
       "      <td>NaN</td>\n",
       "      <td>1.0</td>\n",
       "      <td>NaN</td>\n",
       "    </tr>\n",
       "    <tr>\n",
       "      <th>4</th>\n",
       "      <td>1</td>\n",
       "      <td>1</td>\n",
       "      <td>111292</td>\n",
       "      <td>0.05</td>\n",
       "      <td>0</td>\n",
       "      <td>0.0</td>\n",
       "      <td>1</td>\n",
       "      <td>49.0</td>\n",
       "      <td>2.0</td>\n",
       "      <td>0.0</td>\n",
       "      <td>...</td>\n",
       "      <td>2.0</td>\n",
       "      <td>10.0</td>\n",
       "      <td>13.0</td>\n",
       "      <td>1.01</td>\n",
       "      <td>0.90</td>\n",
       "      <td>2.35</td>\n",
       "      <td>4.0</td>\n",
       "      <td>3.0</td>\n",
       "      <td>1.0</td>\n",
       "      <td>10.0</td>\n",
       "    </tr>\n",
       "    <tr>\n",
       "      <th>...</th>\n",
       "      <td>...</td>\n",
       "      <td>...</td>\n",
       "      <td>...</td>\n",
       "      <td>...</td>\n",
       "      <td>...</td>\n",
       "      <td>...</td>\n",
       "      <td>...</td>\n",
       "      <td>...</td>\n",
       "      <td>...</td>\n",
       "      <td>...</td>\n",
       "      <td>...</td>\n",
       "      <td>...</td>\n",
       "      <td>...</td>\n",
       "      <td>...</td>\n",
       "      <td>...</td>\n",
       "      <td>...</td>\n",
       "      <td>...</td>\n",
       "      <td>...</td>\n",
       "      <td>...</td>\n",
       "      <td>...</td>\n",
       "      <td>...</td>\n",
       "    </tr>\n",
       "    <tr>\n",
       "      <th>1635</th>\n",
       "      <td>408</td>\n",
       "      <td>112</td>\n",
       "      <td>121792</td>\n",
       "      <td>NaN</td>\n",
       "      <td>0</td>\n",
       "      <td>1.0</td>\n",
       "      <td>2</td>\n",
       "      <td>NaN</td>\n",
       "      <td>NaN</td>\n",
       "      <td>NaN</td>\n",
       "      <td>...</td>\n",
       "      <td>NaN</td>\n",
       "      <td>NaN</td>\n",
       "      <td>NaN</td>\n",
       "      <td>NaN</td>\n",
       "      <td>NaN</td>\n",
       "      <td>NaN</td>\n",
       "      <td>2.0</td>\n",
       "      <td>NaN</td>\n",
       "      <td>1.0</td>\n",
       "      <td>NaN</td>\n",
       "    </tr>\n",
       "    <tr>\n",
       "      <th>1636</th>\n",
       "      <td>409</td>\n",
       "      <td>1</td>\n",
       "      <td>111392</td>\n",
       "      <td>0.10</td>\n",
       "      <td>0</td>\n",
       "      <td>0.0</td>\n",
       "      <td>1</td>\n",
       "      <td>428.0</td>\n",
       "      <td>4.0</td>\n",
       "      <td>0.0</td>\n",
       "      <td>...</td>\n",
       "      <td>2.0</td>\n",
       "      <td>10.5</td>\n",
       "      <td>12.5</td>\n",
       "      <td>1.06</td>\n",
       "      <td>0.98</td>\n",
       "      <td>1.06</td>\n",
       "      <td>2.0</td>\n",
       "      <td>2.0</td>\n",
       "      <td>1.0</td>\n",
       "      <td>10.5</td>\n",
       "    </tr>\n",
       "    <tr>\n",
       "      <th>1637</th>\n",
       "      <td>409</td>\n",
       "      <td>2</td>\n",
       "      <td>111392</td>\n",
       "      <td>0.10</td>\n",
       "      <td>0</td>\n",
       "      <td>0.0</td>\n",
       "      <td>1</td>\n",
       "      <td>NaN</td>\n",
       "      <td>NaN</td>\n",
       "      <td>NaN</td>\n",
       "      <td>...</td>\n",
       "      <td>2.0</td>\n",
       "      <td>NaN</td>\n",
       "      <td>12.5</td>\n",
       "      <td>1.05</td>\n",
       "      <td>0.89</td>\n",
       "      <td>2.11</td>\n",
       "      <td>2.0</td>\n",
       "      <td>2.0</td>\n",
       "      <td>1.0</td>\n",
       "      <td>NaN</td>\n",
       "    </tr>\n",
       "    <tr>\n",
       "      <th>1638</th>\n",
       "      <td>409</td>\n",
       "      <td>111</td>\n",
       "      <td>111392</td>\n",
       "      <td>0.10</td>\n",
       "      <td>0</td>\n",
       "      <td>0.0</td>\n",
       "      <td>1</td>\n",
       "      <td>NaN</td>\n",
       "      <td>NaN</td>\n",
       "      <td>NaN</td>\n",
       "      <td>...</td>\n",
       "      <td>NaN</td>\n",
       "      <td>NaN</td>\n",
       "      <td>NaN</td>\n",
       "      <td>NaN</td>\n",
       "      <td>NaN</td>\n",
       "      <td>NaN</td>\n",
       "      <td>2.0</td>\n",
       "      <td>NaN</td>\n",
       "      <td>1.0</td>\n",
       "      <td>NaN</td>\n",
       "    </tr>\n",
       "    <tr>\n",
       "      <th>1639</th>\n",
       "      <td>409</td>\n",
       "      <td>112</td>\n",
       "      <td>111392</td>\n",
       "      <td>0.10</td>\n",
       "      <td>0</td>\n",
       "      <td>0.0</td>\n",
       "      <td>1</td>\n",
       "      <td>NaN</td>\n",
       "      <td>NaN</td>\n",
       "      <td>NaN</td>\n",
       "      <td>...</td>\n",
       "      <td>NaN</td>\n",
       "      <td>NaN</td>\n",
       "      <td>NaN</td>\n",
       "      <td>NaN</td>\n",
       "      <td>NaN</td>\n",
       "      <td>NaN</td>\n",
       "      <td>2.0</td>\n",
       "      <td>NaN</td>\n",
       "      <td>1.0</td>\n",
       "      <td>NaN</td>\n",
       "    </tr>\n",
       "  </tbody>\n",
       "</table>\n",
       "<p>1640 rows × 35 columns</p>\n",
       "</div>"
      ],
      "text/plain": [
       "       id  period   date2  firstin2  pa2  special2  type2  sheet  chain  \\\n",
       "0       0       1  111792      0.08    0       1.0      1   46.0    1.0   \n",
       "1       0       2  111792      0.08    0       1.0      1    NaN    NaN   \n",
       "2       0     111  111792      0.08    0       1.0      1    NaN    NaN   \n",
       "3       0     112  111792      0.08    0       1.0      1    NaN    NaN   \n",
       "4       1       1  111292      0.05    0       0.0      1   49.0    2.0   \n",
       "...   ...     ...     ...       ...  ...       ...    ...    ...    ...   \n",
       "1635  408     112  121792       NaN    0       1.0      2    NaN    NaN   \n",
       "1636  409       1  111392      0.10    0       0.0      1  428.0    4.0   \n",
       "1637  409       2  111392      0.10    0       0.0      1    NaN    NaN   \n",
       "1638  409     111  111392      0.10    0       0.0      1    NaN    NaN   \n",
       "1639  409     112  111392      0.10    0       0.0      1    NaN    NaN   \n",
       "\n",
       "      co_owned  ...  meals  open  hrsopen  psoda  pfry  pentree  nregs  \\\n",
       "0          0.0  ...    2.0   6.5     16.5   1.03  1.03     0.52    3.0   \n",
       "1          NaN  ...    2.0   NaN     16.5   1.03   NaN     0.94    4.0   \n",
       "2          NaN  ...    NaN   NaN      NaN    NaN   NaN      NaN    3.0   \n",
       "3          NaN  ...    NaN   NaN      NaN    NaN   NaN      NaN    4.0   \n",
       "4          0.0  ...    2.0  10.0     13.0   1.01  0.90     2.35    4.0   \n",
       "...        ...  ...    ...   ...      ...    ...   ...      ...    ...   \n",
       "1635       NaN  ...    NaN   NaN      NaN    NaN   NaN      NaN    2.0   \n",
       "1636       0.0  ...    2.0  10.5     12.5   1.06  0.98     1.06    2.0   \n",
       "1637       NaN  ...    2.0   NaN     12.5   1.05  0.89     2.11    2.0   \n",
       "1638       NaN  ...    NaN   NaN      NaN    NaN   NaN      NaN    2.0   \n",
       "1639       NaN  ...    NaN   NaN      NaN    NaN   NaN      NaN    2.0   \n",
       "\n",
       "      nregs11  status  open2r  \n",
       "0         3.0     1.0     6.5  \n",
       "1         4.0     1.0     NaN  \n",
       "2         NaN     1.0     NaN  \n",
       "3         NaN     1.0     NaN  \n",
       "4         3.0     1.0    10.0  \n",
       "...       ...     ...     ...  \n",
       "1635      NaN     1.0     NaN  \n",
       "1636      2.0     1.0    10.5  \n",
       "1637      2.0     1.0     NaN  \n",
       "1638      NaN     1.0     NaN  \n",
       "1639      NaN     1.0     NaN  \n",
       "\n",
       "[1640 rows x 35 columns]"
      ]
     },
     "execution_count": 31,
     "metadata": {},
     "output_type": "execute_result"
    }
   ],
   "source": [
    "data = data.rename(columns={'status2':'status'})\n",
    "long_panel_variables = [col for col in data.columns if not col.endswith('2')]\n",
    "rename_dict = {col: col+'1' for col in long_panel_variables}\n",
    "data.rename(columns=rename_dict, inplace=True)\n",
    "data['id'] = data.reset_index(drop=True).index\n",
    "data_long = pd.wide_to_long(data,\n",
    "                          stubnames=long_panel_variables,\n",
    "                          i='id',\n",
    "                          j='period',\n",
    "                          sep='').reset_index()\n",
    "data_long = data_long.sort_values(by=['id','period']).reset_index(drop=True)\n",
    "data_long[['state', 'status']] = data_long[['state', 'status']].ffill()\n",
    "data_long"
   ]
  },
  {
   "cell_type": "markdown",
   "metadata": {},
   "source": [
    "As we discussed last week, it is often good to use the codebook of most datasets as most things are coded numerically. This can be found here: https://davidcard.berkeley.edu/data_sets.html "
   ]
  },
  {
   "cell_type": "markdown",
   "metadata": {},
   "source": [
    "As you can see from the above dataframe, all the values are numeric. For the ease of analysis and readability, let's retrive the actual name of chains in `chain` column as well as the 'state' column.  \n",
    "\n",
    "According to the codebook, 1 is Burger King, 2 is KFC, 3 is Roys, and 4 is Wendys. Then, we also know that 1 is NJ and 0 is PA."
   ]
  },
  {
   "cell_type": "markdown",
   "metadata": {},
   "source": [
    "![alt text](image.png)"
   ]
  },
  {
   "cell_type": "code",
   "execution_count": 33,
   "metadata": {
    "vscode": {
     "languageId": "javascript"
    }
   },
   "outputs": [],
   "source": [
    "data_long['chain'] = data_long['chain'].replace({1: 'BK', 2: 'KFC', 3: 'Roys', 4: 'Wendys'})\n",
    "data_long['state'] = data_long['state'].replace({1: 'NJ', 0:'PA'})"
   ]
  },
  {
   "cell_type": "markdown",
   "metadata": {},
   "source": [
    "### Replicating Table 1"
   ]
  },
  {
   "cell_type": "markdown",
   "metadata": {},
   "source": [
    "I have placed a screenshot of Table 1 in the notebook. Let us try and see if we can replicate this."
   ]
  },
  {
   "cell_type": "markdown",
   "metadata": {},
   "source": [
    "![alt text](image-1.png)"
   ]
  },
  {
   "cell_type": "markdown",
   "metadata": {},
   "source": [
    "Notice first in the dataset that there are two periods, period 1 (before the min wage increase) and period 2 (after the min wage increase). So, it is reasonable to create two datasets"
   ]
  },
  {
   "cell_type": "code",
   "execution_count": 34,
   "metadata": {},
   "outputs": [],
   "source": [
    "before = data_long[data_long['period'] == 1].reset_index(drop=True)\n",
    "after = data_long[data_long['period'] == 2].reset_index(drop=True)"
   ]
  },
  {
   "cell_type": "markdown",
   "metadata": {},
   "source": [
    "Table 1 shows that 410 fast food restaurants answered the survey. Among 410 restaurants, 331 restaurants are in NJ and 79 are in PA"
   ]
  },
  {
   "cell_type": "code",
   "execution_count": 35,
   "metadata": {},
   "outputs": [
    {
     "name": "stdout",
     "output_type": "stream",
     "text": [
      "Number of restaurants in NJ before: 331\n",
      "Number of restaurants in PA before: 79\n"
     ]
    }
   ],
   "source": [
    "nj_count = before[before['state'] == 'NJ'].shape[0]\n",
    "pa_count = before[before['state'] == 'PA'].shape[0]\n",
    "\n",
    "print(f\"Number of restaurants in NJ before: {nj_count}\")\n",
    "print(f\"Number of restaurants in PA before: {pa_count}\")"
   ]
  },
  {
   "cell_type": "markdown",
   "metadata": {},
   "source": [
    "Expect some replication tasks to be in the assignment."
   ]
  },
  {
   "cell_type": "markdown",
   "metadata": {},
   "source": [
    "Next, let us discuss more formal hypothesis tests. I got this material directly from Wonjun's class"
   ]
  },
  {
   "cell_type": "markdown",
   "metadata": {},
   "source": [
    "Suppose $X \\sim N(m,1)$ where $m$ is the unknown mean of the normal distribution.\n",
    "\n",
    "Our best guess for $m$ is just simply the sample average\n",
    "$$\n",
    "\\hat{m} = \\bar{X} = \\frac{1}{n} \\sum_{i=1}^n X_i.\n",
    "$$\n",
    "\n",
    "We want to test if $m$ is different from 0 or not.\n",
    "\n",
    "First, generate a random variable $X$ with `np.random.normal()`. For data generation, let $m=1$, but pretend we don't know this true $m$. Use sample size of $10$."
   ]
  },
  {
   "cell_type": "code",
   "execution_count": 38,
   "metadata": {},
   "outputs": [
    {
     "name": "stdout",
     "output_type": "stream",
     "text": [
      "[ 1.4177516   1.66222326  1.40635331  2.63365027  0.44485775  1.34984982\n",
      "  1.18488823 -0.09503225 -0.0112408   1.21307213]\n"
     ]
    }
   ],
   "source": [
    "X = np.random.normal(loc=1, scale=1, size=10)\n",
    "print(X)"
   ]
  },
  {
   "cell_type": "markdown",
   "metadata": {},
   "source": [
    "Using the simulated data, we can compute for the sample mean, which is the estimate $\\hat{m}$"
   ]
  },
  {
   "cell_type": "code",
   "execution_count": 64,
   "metadata": {},
   "outputs": [
    {
     "name": "stdout",
     "output_type": "stream",
     "text": [
      "The mean of X is: 1.1206373308140987\n"
     ]
    }
   ],
   "source": [
    "m_hat = np.mean(X)\n",
    "print(f\"The mean of X is: {mean_X}\")"
   ]
  },
  {
   "cell_type": "markdown",
   "metadata": {},
   "source": [
    "Let us formalize the process behind a hypothesis test. Supppose your friend guesses that the true mean $m$ is 0. We can now formulate the null and alternative hypotheses below."
   ]
  },
  {
   "cell_type": "markdown",
   "metadata": {},
   "source": [
    "$$H_0:m = 0$$\n",
    "$$H_a: m \\neq 0$$"
   ]
  },
  {
   "cell_type": "markdown",
   "metadata": {},
   "source": [
    "Under the null hypothesis $H_0$, each $X_i$ follows $N(m,1)$. Then, \n",
    "\n",
    "$$X_1 + X_2 + X_3 + \\cdots + X_{10} \\sim N(m, 1+1+1+\\cdots+1) = N(m,10)$$\n",
    "and\n",
    "$$\n",
    "\\hat{m} = \\frac{1}{10} \\sum_{i=1}^{10} X_i \\sim \\frac{1}{10} N(m, 10) = N(m, \\frac{1}{10}).$$"
   ]
  },
  {
   "cell_type": "markdown",
   "metadata": {},
   "source": [
    "The intuition behind the hypothesis testing is as follow:\n",
    "\n",
    "1. We don't know the underlying distribution. In our example, we don't know $m$ in $N(m,1)$.\n",
    "2. Therefore, we make an assumption on the underlying distribution: $m = 0$, hypothetically. The assumptions we want to make can vary depending on the problem at hand.\n",
    "3. Under the hypothesis ($m_0=0$, to denote \"hypothetical\" $m$.), see how extreme our observation is.\n",
    "4. Claim the hypothesis ($m_0=0$) is wrong if our observation is too extreme in the distribution. If it doesn't look too crazy, then we don't have enough statistical evidence to claim that the hypothesis is wrong."
   ]
  },
  {
   "cell_type": "markdown",
   "metadata": {},
   "source": [
    "Before introducing a real test, let's see how extreme our observation is. To this end, let's draw a pdf of $N(m,1/10)$ under two different hypothesis: $m_0=0$, $m_0=1$. "
   ]
  },
  {
   "cell_type": "code",
   "execution_count": 60,
   "metadata": {},
   "outputs": [
    {
     "data": {
      "image/png": "[encoded data removed]",
      "text/plain": [
       "<Figure size 1200x600 with 2 Axes>"
      ]
     },
     "metadata": {},
     "output_type": "display_data"
    }
   ],
   "source": [
    "from scipy.stats import norm\n",
    "\n",
    "import matplotlib.pyplot as plt\n",
    "\n",
    "# Calculate the PDF for N(0, 1/10) and N(1, 1/10)\n",
    "pdf_0 = norm.pdf(x, loc=0, scale=0.1)\n",
    "pdf_1 = norm.pdf(x, loc=1, scale=0.1)\n",
    "\n",
    "# Plot the PDFs\n",
    "fig, axes = plt.subplots(1, 2, figsize=(12, 6))\n",
    "\n",
    "# Plot N(0, 1/10)\n",
    "axes[0].plot(x, pdf_0, label='N(0, 1/10)', color='blue')\n",
    "axes[0].axvline(m_hat, color='red', linestyle='--', label='m_hat')\n",
    "axes[0].set_title('PDF of N(0, 1/10)')\n",
    "axes[0].set_xlabel('x')\n",
    "axes[0].set_ylabel('Density')\n",
    "axes[0].legend()\n",
    "\n",
    "# Plot N(1, 1/10)\n",
    "axes[1].plot(x, pdf_1, label='N(1, 1/10)', color='green')\n",
    "axes[1].axvline(m_hat, color='red', linestyle='--', label='m_hat')\n",
    "axes[1].set_title('PDF of N(1, 1/10)')\n",
    "axes[1].set_xlabel('x')\n",
    "axes[1].set_ylabel('Density')\n",
    "axes[1].legend()\n",
    "\n",
    "plt.tight_layout()\n",
    "plt.show()"
   ]
  },
  {
   "cell_type": "code",
   "execution_count": 65,
   "metadata": {},
   "outputs": [
    {
     "name": "stderr",
     "output_type": "stream",
     "text": [
      "<>:21: SyntaxWarning: invalid escape sequence '\\h'\n",
      "<>:29: SyntaxWarning: invalid escape sequence '\\h'\n",
      "<>:21: SyntaxWarning: invalid escape sequence '\\h'\n",
      "<>:29: SyntaxWarning: invalid escape sequence '\\h'\n",
      "/var/folders/ch/hh05jl8911q5dhp_1wptbrym0000gn/T/ipykernel_20265/2651620319.py:21: SyntaxWarning: invalid escape sequence '\\h'\n",
      "  ax1.axvline(m_hat, color='red', linestyle='--', label='$\\hat{m}$')\n",
      "/var/folders/ch/hh05jl8911q5dhp_1wptbrym0000gn/T/ipykernel_20265/2651620319.py:29: SyntaxWarning: invalid escape sequence '\\h'\n",
      "  ax2.axvline(m_hat, color='red', linestyle='--', label='$\\hat{m}$')\n"
     ]
    },
    {
     "data": {
      "image/png": "[encoded data removed]",
      "text/plain": [
       "<Figure size 1200x400 with 2 Axes>"
      ]
     },
     "metadata": {},
     "output_type": "display_data"
    }
   ],
   "source": [
    "import numpy as np\n",
    "import matplotlib.pyplot as plt\n",
    "from scipy.stats import norm\n",
    "\n",
    "# Parameters\n",
    "mu1, sigma1 = 0, np.sqrt(0.1)\n",
    "mu2, sigma2 = 1, np.sqrt(0.1) # example value, adjust as needed\n",
    "\n",
    "# X range\n",
    "x = np.linspace(-1, 2, 500)\n",
    "\n",
    "# PDFs\n",
    "pdf1 = norm.pdf(x, mu1, sigma1)\n",
    "pdf2 = norm.pdf(x, mu2, sigma2)\n",
    "\n",
    "# Create subplots\n",
    "fig, (ax1, ax2) = plt.subplots(1, 2, figsize=(12, 4))\n",
    "\n",
    "# Plot N(0,0.1)\n",
    "ax1.plot(x, pdf1, label='$N(0,0.1)$', color='blue')\n",
    "ax1.axvline(m_hat, color='red', linestyle='--', label='$\\hat{m}$')\n",
    "ax1.set_title('PDF of $N(0,0.1)$')\n",
    "ax1.set_xlabel('x')\n",
    "ax1.set_ylabel('Probability Density')\n",
    "ax1.legend()\n",
    "\n",
    "# Plot N(1,0.1)\n",
    "ax2.plot(x, pdf2, label='$N(1,0.1)$', color='green')\n",
    "ax2.axvline(m_hat, color='red', linestyle='--', label='$\\hat{m}$')\n",
    "ax2.set_title('PDF of $N(1,0.1)$')\n",
    "ax2.set_xlabel('x')\n",
    "ax2.set_ylabel('Probability Density')\n",
    "ax2.legend()\n",
    "\n",
    "# Adjust layout\n",
    "plt.tight_layout()\n",
    "plt.show()\n"
   ]
  },
  {
   "cell_type": "markdown",
   "metadata": {},
   "source": [
    "Our best guess of the mean $\\hat{m}$ (red line) doesn't make sense at all on the left figure, but not crazy enough on the right."
   ]
  },
  {
   "cell_type": "markdown",
   "metadata": {},
   "source": [
    "To test the hypothesis, we can work with the distribution of $\\hat{m}$ directly. However, we can define an unified test statistic that can be used in many different testings. This is particularly useful when we want to appeal to CLT when the underlying distribution is completely unknown (we assumed in this example the underlying distribution is a normal distribution with known standard deviation. In reality, we don't know neither the distribution is \"normal\" nor the standard deviation is \"1\").\n",
    "\n",
    "Define\n",
    "$$\n",
    "Z = \\frac{\\hat{m} - m_0}{\\sigma(m)}.\n",
    "$$\n",
    "Recall $m_0$ is the hyptothetical value. $\\sigma(m)$ is 0.1 (i.e. 1/10) in our example, but can be estimated when we don't know the underlying distribution. Notice we can calculate $Z$ only when we assume a value for $m_0$.\n",
    "\n",
    "Thanks to CLT, if the null hypothesis is correct (hypothesis on $m_0$ is correct), $Z$ is known to follow $N(0,1)$. Now we want to know how extreme our $Z$ is under the hypothesis. Note under differnt hypothesis, $Z$ changes but $N(0,1)$ remains."
   ]
  },
  {
   "cell_type": "code",
   "execution_count": 44,
   "metadata": {},
   "outputs": [
    {
     "data": {
      "text/plain": [
       "np.float64(3.5437663963841457)"
      ]
     },
     "execution_count": 44,
     "metadata": {},
     "output_type": "execute_result"
    }
   ],
   "source": [
    "# Define Z (where m_0 = 0)\n",
    "Z = (m_hat - 0)/np.sqrt(0.1)\n",
    "Z"
   ]
  },
  {
   "cell_type": "code",
   "execution_count": 48,
   "metadata": {},
   "outputs": [
    {
     "data": {
      "image/png": "[encoded data removed]",
      "text/plain": [
       "<Figure size 1200x500 with 2 Axes>"
      ]
     },
     "metadata": {},
     "output_type": "display_data"
    }
   ],
   "source": [
    "import scipy as sc\n",
    "import matplotlib.pyplot as plt\n",
    "\n",
    "fig, ax = plt.subplots(1,2, figsize=(12,5))\n",
    "\n",
    "# draw pdf of N(0,1)\n",
    "x_grid = np.linspace(-10, 10, 1000)  # generate x_grid\n",
    "y = sc.stats.norm.pdf(x_grid, loc=0, scale=np.sqrt(1))     # calculate the values of the pdf function.\n",
    "ax[0].plot(x_grid,y, color='blue', label='pdf of N(0,1)')  # plot line graph\n",
    "ax[0].axvline(Z, color='red', label='Z when $m_0=0$') # draw a vertical line at $m_hat$\n",
    "ax[0].title.set_text('Z=(m_hat - 0)/0.1')\n",
    "ax[0].legend()\n",
    "\n",
    "# draw pdf of N(0,1)\n",
    "ax[1].plot(x_grid, sc.stats.norm.pdf(x_grid), color='blue', label='pdf of N(0,1)')\n",
    "ax[1].axvline((m_hat - 1)/np.sqrt(0.1), color='green', label='Z when $m_0=1$')  # notice Z is redefiend with m0=2.5\n",
    "ax[1].title.set_text('Z=(m_hat - 1)/0.1 ')\n",
    "ax[1].legend()\n",
    "\n",
    "plt.show()"
   ]
  },
  {
   "cell_type": "markdown",
   "metadata": {},
   "source": [
    "To define \"how extreme\" or \"too crazy\" formally, we set a critical value. If our test statistic $Z$ is far from $0$ (the center of $N(0,1)$) more than a critical value ($|Z - 0| > cv$), we agree it is too crazy and reject the null hypothesis.\n",
    "\n",
    "For 95% significance level, our critical value for normal distribution is $1.96$ (you will learn this again in the main class). Reject the null if the distance is greater than 1.96. Use the absolute value (`np.abs()`) of $Z$ to calculate the distance and reject the null if it is greater than 1.96."
   ]
  },
  {
   "cell_type": "code",
   "execution_count": 47,
   "metadata": {},
   "outputs": [
    {
     "data": {
      "text/plain": [
       "np.float64(1.959963984540054)"
      ]
     },
     "execution_count": 47,
     "metadata": {},
     "output_type": "execute_result"
    }
   ],
   "source": [
    "alpha = 0.05 # significance level\n",
    "cv = sc.stats.norm.ppf(1 - alpha/2)  # critical value\n",
    "cv"
   ]
  },
  {
   "cell_type": "markdown",
   "metadata": {},
   "source": [
    "Since $Z = 3.54 > cv = 1.96$, we can conclude that we reject $H_0$ that $m = 0$, as such, there is sufficient evidence to show that $m$ is probably not equal to zero"
   ]
  },
  {
   "cell_type": "markdown",
   "metadata": {},
   "source": [
    "What about when $m_0 = 1$?"
   ]
  },
  {
   "cell_type": "code",
   "execution_count": 49,
   "metadata": {},
   "outputs": [
    {
     "data": {
      "text/plain": [
       "np.float64(0.3814887362157666)"
      ]
     },
     "execution_count": 49,
     "metadata": {},
     "output_type": "execute_result"
    }
   ],
   "source": [
    "(m_hat - 1)/np.sqrt(0.1)"
   ]
  },
  {
   "cell_type": "markdown",
   "metadata": {},
   "source": [
    "Here, we see that $Z = 0.38 < cv = 1.96$. We cannot conclude that $H_0$ is incorrect. As such, there is considerable evidence to show that $m$ is equal to 1"
   ]
  },
  {
   "cell_type": "markdown",
   "metadata": {},
   "source": [
    "Let us now apply this Hypothesis testing to the Card and Kreuger. Let's show the main conclusion of the paper"
   ]
  },
  {
   "cell_type": "code",
   "execution_count": 50,
   "metadata": {},
   "outputs": [
    {
     "data": {
      "text/html": [
       "<div>\n",
       "<style scoped>\n",
       "    .dataframe tbody tr th:only-of-type {\n",
       "        vertical-align: middle;\n",
       "    }\n",
       "\n",
       "    .dataframe tbody tr th {\n",
       "        vertical-align: top;\n",
       "    }\n",
       "\n",
       "    .dataframe thead th {\n",
       "        text-align: right;\n",
       "    }\n",
       "</style>\n",
       "<table border=\"1\" class=\"dataframe\">\n",
       "  <thead>\n",
       "    <tr style=\"text-align: right;\">\n",
       "      <th></th>\n",
       "      <th>id</th>\n",
       "      <th>period</th>\n",
       "      <th>state</th>\n",
       "      <th>status</th>\n",
       "      <th>empft</th>\n",
       "      <th>emppt</th>\n",
       "      <th>nmgrs</th>\n",
       "      <th>FTE</th>\n",
       "    </tr>\n",
       "  </thead>\n",
       "  <tbody>\n",
       "    <tr>\n",
       "      <th>0</th>\n",
       "      <td>0</td>\n",
       "      <td>1</td>\n",
       "      <td>0.0</td>\n",
       "      <td>1.0</td>\n",
       "      <td>30.0</td>\n",
       "      <td>15.0</td>\n",
       "      <td>3.0</td>\n",
       "      <td>40.50</td>\n",
       "    </tr>\n",
       "    <tr>\n",
       "      <th>1</th>\n",
       "      <td>0</td>\n",
       "      <td>2</td>\n",
       "      <td>0.0</td>\n",
       "      <td>1.0</td>\n",
       "      <td>3.5</td>\n",
       "      <td>35.0</td>\n",
       "      <td>3.0</td>\n",
       "      <td>24.00</td>\n",
       "    </tr>\n",
       "    <tr>\n",
       "      <th>2</th>\n",
       "      <td>1</td>\n",
       "      <td>1</td>\n",
       "      <td>0.0</td>\n",
       "      <td>1.0</td>\n",
       "      <td>6.5</td>\n",
       "      <td>6.5</td>\n",
       "      <td>4.0</td>\n",
       "      <td>13.75</td>\n",
       "    </tr>\n",
       "    <tr>\n",
       "      <th>3</th>\n",
       "      <td>1</td>\n",
       "      <td>2</td>\n",
       "      <td>0.0</td>\n",
       "      <td>1.0</td>\n",
       "      <td>0.0</td>\n",
       "      <td>15.0</td>\n",
       "      <td>4.0</td>\n",
       "      <td>11.50</td>\n",
       "    </tr>\n",
       "    <tr>\n",
       "      <th>4</th>\n",
       "      <td>2</td>\n",
       "      <td>1</td>\n",
       "      <td>0.0</td>\n",
       "      <td>1.0</td>\n",
       "      <td>3.0</td>\n",
       "      <td>7.0</td>\n",
       "      <td>2.0</td>\n",
       "      <td>8.50</td>\n",
       "    </tr>\n",
       "  </tbody>\n",
       "</table>\n",
       "</div>"
      ],
      "text/plain": [
       "   id  period  state  status  empft  emppt  nmgrs    FTE\n",
       "0   0       1    0.0     1.0   30.0   15.0    3.0  40.50\n",
       "1   0       2    0.0     1.0    3.5   35.0    3.0  24.00\n",
       "2   1       1    0.0     1.0    6.5    6.5    4.0  13.75\n",
       "3   1       2    0.0     1.0    0.0   15.0    4.0  11.50\n",
       "4   2       1    0.0     1.0    3.0    7.0    2.0   8.50"
      ]
     },
     "execution_count": 50,
     "metadata": {},
     "output_type": "execute_result"
    }
   ],
   "source": [
    "df = pd.read_csv('/Users/justineloriaga/Documents/GitHub/ECON-220-Lab/Week 9/minwage_data.csv')\n",
    "df = df[['state', 'status2',\n",
    "         'empft', 'emppt', 'nmgrs', \n",
    "         'empft2', 'emppt2', 'nmgrs2']]\n",
    "df = df.rename(columns={'status2':'status'})\n",
    "long_panel_variables = [col for col in df.columns if not col.endswith('2')]\n",
    "rename_dict = {col: col+'1' for col in long_panel_variables}\n",
    "df.rename(columns=rename_dict, inplace=True)\n",
    "df['id'] = df.reset_index(drop=True).index\n",
    "df_long = pd.wide_to_long(df,\n",
    "                          stubnames=long_panel_variables,\n",
    "                          i='id',\n",
    "                          j='period',\n",
    "                          sep='').reset_index()\n",
    "df_long = df_long.sort_values(by=['id','period']).reset_index(drop=True)\n",
    "df_long[['state', 'status']] = df_long[['state', 'status']].ffill()\n",
    "df_long['FTE'] = df_long['empft'] + df_long['nmgrs'] + 0.5*df_long['emppt']\n",
    "df_long.head(5)"
   ]
  },
  {
   "cell_type": "markdown",
   "metadata": {},
   "source": [
    "The variable FTE measures the total number of hours worked in the week, a sum of the part time and full time hours as well as overtime or net margins."
   ]
  },
  {
   "cell_type": "code",
   "execution_count": 51,
   "metadata": {},
   "outputs": [
    {
     "data": {
      "text/plain": [
       "TtestResult(statistic=np.float64(-2.3506288547303993), pvalue=np.float64(0.01923145102042417), df=np.float64(396.0))"
      ]
     },
     "execution_count": 51,
     "metadata": {},
     "output_type": "execute_result"
    }
   ],
   "source": [
    "from scipy.stats import ttest_ind\n",
    "NJ_pre = df_long[(df_long.state==1)&(df_long.period==1)]['FTE'].dropna()\n",
    "PA_pre = df_long[(df_long.state==0)&(df_long.period==1)]['FTE'].dropna()\n",
    "ttest_ind(NJ_pre, PA_pre)"
   ]
  },
  {
   "cell_type": "code",
   "execution_count": 53,
   "metadata": {},
   "outputs": [
    {
     "data": {
      "text/plain": [
       "np.True_"
      ]
     },
     "execution_count": 53,
     "metadata": {},
     "output_type": "execute_result"
    }
   ],
   "source": [
    "reject = (ttest_ind(NJ_pre, PA_pre).pvalue <= 0.05)\n",
    "reject"
   ]
  },
  {
   "cell_type": "markdown",
   "metadata": {},
   "source": [
    "As the paper argues, there is no decline in hours estimated, suggesting that the imposition of the minimum wage did not affect employment"
   ]
  }
 ],
 "metadata": {
  "kernelspec": {
   "display_name": "Python 3",
   "language": "python",
   "name": "python3"
  },
  "language_info": {
   "codemirror_mode": {
    "name": "ipython",
    "version": 3
   },
   "file_extension": ".py",
   "mimetype": "text/x-python",
   "name": "python",
   "nbconvert_exporter": "python",
   "pygments_lexer": "ipython3",
   "version": "3.13.0"
  }
 },
 "nbformat": 4,
 "nbformat_minor": 2
}
