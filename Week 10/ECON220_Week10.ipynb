{
 "cells": [
  {
   "cell_type": "markdown",
   "metadata": {},
   "source": [
    "# ECON 220 Lab - Week 10"
   ]
  },
  {
   "cell_type": "markdown",
   "metadata": {},
   "source": [
    "Justin S. Eloriaga"
   ]
  },
  {
   "cell_type": "markdown",
   "metadata": {},
   "source": [
    "Today, the goal is to cover many types of statistical tests. We will use a dataset most people will be familiar with in the realm of economics and that you will likely revisit in ECON 320. The Current Population Survey (CPS) is a monthly survey of about 57,000 U.S. households conducted by the Bureau of the Census of the Bureau of Labor Statistics. We will use the version in Bruce Hansen's Textbook"
   ]
  },
  {
   "cell_type": "code",
   "execution_count": 2,
   "metadata": {},
   "outputs": [],
   "source": [
    "import pandas as pd\n",
    "import numpy as np\n",
    "import matplotlib.pyplot as plt"
   ]
  },
  {
   "cell_type": "markdown",
   "metadata": {},
   "source": [
    "You may want to install the openpyxl library so that you can load excel files"
   ]
  },
  {
   "cell_type": "code",
   "execution_count": null,
   "metadata": {},
   "outputs": [],
   "source": [
    "pip install openpyxl"
   ]
  },
  {
   "cell_type": "markdown",
   "metadata": {},
   "source": [
    "Let us now load the dataset"
   ]
  },
  {
   "cell_type": "code",
   "execution_count": 5,
   "metadata": {},
   "outputs": [
    {
     "data": {
      "text/html": [
       "<div>\n",
       "<style scoped>\n",
       "    .dataframe tbody tr th:only-of-type {\n",
       "        vertical-align: middle;\n",
       "    }\n",
       "\n",
       "    .dataframe tbody tr th {\n",
       "        vertical-align: top;\n",
       "    }\n",
       "\n",
       "    .dataframe thead th {\n",
       "        text-align: right;\n",
       "    }\n",
       "</style>\n",
       "<table border=\"1\" class=\"dataframe\">\n",
       "  <thead>\n",
       "    <tr style=\"text-align: right;\">\n",
       "      <th></th>\n",
       "      <th>age</th>\n",
       "      <th>female</th>\n",
       "      <th>hisp</th>\n",
       "      <th>education</th>\n",
       "      <th>earnings</th>\n",
       "      <th>hours</th>\n",
       "      <th>week</th>\n",
       "      <th>union</th>\n",
       "      <th>uncov</th>\n",
       "      <th>region</th>\n",
       "      <th>race</th>\n",
       "      <th>marital</th>\n",
       "    </tr>\n",
       "  </thead>\n",
       "  <tbody>\n",
       "    <tr>\n",
       "      <th>0</th>\n",
       "      <td>52</td>\n",
       "      <td>0</td>\n",
       "      <td>0</td>\n",
       "      <td>12</td>\n",
       "      <td>146000</td>\n",
       "      <td>45</td>\n",
       "      <td>52</td>\n",
       "      <td>0</td>\n",
       "      <td>0</td>\n",
       "      <td>1</td>\n",
       "      <td>1</td>\n",
       "      <td>1</td>\n",
       "    </tr>\n",
       "    <tr>\n",
       "      <th>1</th>\n",
       "      <td>38</td>\n",
       "      <td>0</td>\n",
       "      <td>0</td>\n",
       "      <td>18</td>\n",
       "      <td>50000</td>\n",
       "      <td>45</td>\n",
       "      <td>52</td>\n",
       "      <td>0</td>\n",
       "      <td>0</td>\n",
       "      <td>1</td>\n",
       "      <td>1</td>\n",
       "      <td>1</td>\n",
       "    </tr>\n",
       "    <tr>\n",
       "      <th>2</th>\n",
       "      <td>38</td>\n",
       "      <td>0</td>\n",
       "      <td>0</td>\n",
       "      <td>14</td>\n",
       "      <td>32000</td>\n",
       "      <td>40</td>\n",
       "      <td>51</td>\n",
       "      <td>0</td>\n",
       "      <td>0</td>\n",
       "      <td>1</td>\n",
       "      <td>1</td>\n",
       "      <td>1</td>\n",
       "    </tr>\n",
       "    <tr>\n",
       "      <th>3</th>\n",
       "      <td>41</td>\n",
       "      <td>1</td>\n",
       "      <td>0</td>\n",
       "      <td>13</td>\n",
       "      <td>47000</td>\n",
       "      <td>40</td>\n",
       "      <td>52</td>\n",
       "      <td>0</td>\n",
       "      <td>0</td>\n",
       "      <td>1</td>\n",
       "      <td>1</td>\n",
       "      <td>1</td>\n",
       "    </tr>\n",
       "    <tr>\n",
       "      <th>4</th>\n",
       "      <td>42</td>\n",
       "      <td>0</td>\n",
       "      <td>0</td>\n",
       "      <td>13</td>\n",
       "      <td>161525</td>\n",
       "      <td>50</td>\n",
       "      <td>52</td>\n",
       "      <td>1</td>\n",
       "      <td>0</td>\n",
       "      <td>1</td>\n",
       "      <td>1</td>\n",
       "      <td>1</td>\n",
       "    </tr>\n",
       "    <tr>\n",
       "      <th>...</th>\n",
       "      <td>...</td>\n",
       "      <td>...</td>\n",
       "      <td>...</td>\n",
       "      <td>...</td>\n",
       "      <td>...</td>\n",
       "      <td>...</td>\n",
       "      <td>...</td>\n",
       "      <td>...</td>\n",
       "      <td>...</td>\n",
       "      <td>...</td>\n",
       "      <td>...</td>\n",
       "      <td>...</td>\n",
       "    </tr>\n",
       "    <tr>\n",
       "      <th>50737</th>\n",
       "      <td>58</td>\n",
       "      <td>1</td>\n",
       "      <td>0</td>\n",
       "      <td>11</td>\n",
       "      <td>30000</td>\n",
       "      <td>40</td>\n",
       "      <td>52</td>\n",
       "      <td>0</td>\n",
       "      <td>0</td>\n",
       "      <td>4</td>\n",
       "      <td>4</td>\n",
       "      <td>6</td>\n",
       "    </tr>\n",
       "    <tr>\n",
       "      <th>50738</th>\n",
       "      <td>62</td>\n",
       "      <td>1</td>\n",
       "      <td>0</td>\n",
       "      <td>16</td>\n",
       "      <td>35000</td>\n",
       "      <td>40</td>\n",
       "      <td>52</td>\n",
       "      <td>0</td>\n",
       "      <td>0</td>\n",
       "      <td>4</td>\n",
       "      <td>4</td>\n",
       "      <td>6</td>\n",
       "    </tr>\n",
       "    <tr>\n",
       "      <th>50739</th>\n",
       "      <td>58</td>\n",
       "      <td>0</td>\n",
       "      <td>0</td>\n",
       "      <td>12</td>\n",
       "      <td>75000</td>\n",
       "      <td>50</td>\n",
       "      <td>52</td>\n",
       "      <td>0</td>\n",
       "      <td>0</td>\n",
       "      <td>4</td>\n",
       "      <td>1</td>\n",
       "      <td>1</td>\n",
       "    </tr>\n",
       "    <tr>\n",
       "      <th>50740</th>\n",
       "      <td>45</td>\n",
       "      <td>1</td>\n",
       "      <td>0</td>\n",
       "      <td>12</td>\n",
       "      <td>40000</td>\n",
       "      <td>60</td>\n",
       "      <td>52</td>\n",
       "      <td>0</td>\n",
       "      <td>0</td>\n",
       "      <td>4</td>\n",
       "      <td>1</td>\n",
       "      <td>1</td>\n",
       "    </tr>\n",
       "    <tr>\n",
       "      <th>50741</th>\n",
       "      <td>40</td>\n",
       "      <td>0</td>\n",
       "      <td>0</td>\n",
       "      <td>11</td>\n",
       "      <td>60000</td>\n",
       "      <td>40</td>\n",
       "      <td>52</td>\n",
       "      <td>0</td>\n",
       "      <td>0</td>\n",
       "      <td>4</td>\n",
       "      <td>9</td>\n",
       "      <td>1</td>\n",
       "    </tr>\n",
       "  </tbody>\n",
       "</table>\n",
       "<p>50742 rows × 12 columns</p>\n",
       "</div>"
      ],
      "text/plain": [
       "       age  female  hisp  education  earnings  hours  week  union  uncov  \\\n",
       "0       52       0     0         12    146000     45    52      0      0   \n",
       "1       38       0     0         18     50000     45    52      0      0   \n",
       "2       38       0     0         14     32000     40    51      0      0   \n",
       "3       41       1     0         13     47000     40    52      0      0   \n",
       "4       42       0     0         13    161525     50    52      1      0   \n",
       "...    ...     ...   ...        ...       ...    ...   ...    ...    ...   \n",
       "50737   58       1     0         11     30000     40    52      0      0   \n",
       "50738   62       1     0         16     35000     40    52      0      0   \n",
       "50739   58       0     0         12     75000     50    52      0      0   \n",
       "50740   45       1     0         12     40000     60    52      0      0   \n",
       "50741   40       0     0         11     60000     40    52      0      0   \n",
       "\n",
       "       region  race  marital  \n",
       "0           1     1        1  \n",
       "1           1     1        1  \n",
       "2           1     1        1  \n",
       "3           1     1        1  \n",
       "4           1     1        1  \n",
       "...       ...   ...      ...  \n",
       "50737       4     4        6  \n",
       "50738       4     4        6  \n",
       "50739       4     1        1  \n",
       "50740       4     1        1  \n",
       "50741       4     9        1  \n",
       "\n",
       "[50742 rows x 12 columns]"
      ]
     },
     "execution_count": 5,
     "metadata": {},
     "output_type": "execute_result"
    }
   ],
   "source": [
    "path = \"/Users/justineloriaga/Documents/GitHub/ECON-220-Lab/Week 10/cps09mar.xlsx\"\n",
    "\n",
    "data = pd.read_excel(path)\n",
    "data"
   ]
  },
  {
   "cell_type": "markdown",
   "metadata": {},
   "source": [
    "## One Sample $t$-test"
   ]
  },
  {
   "cell_type": "markdown",
   "metadata": {},
   "source": [
    "Generally, people work 8 hours a day. That means, in a working week, they should be working 40 hours. Let us try to test that claim."
   ]
  },
  {
   "cell_type": "markdown",
   "metadata": {},
   "source": [
    "$$H_0: \\mu = 40$$\n",
    "$$H_a: \\mu \\neq 40$$"
   ]
  },
  {
   "cell_type": "markdown",
   "metadata": {},
   "source": [
    "We want to test the null hypothesis that people on average work 40 hours a week. To do that, we perform a one sample t-test"
   ]
  },
  {
   "cell_type": "code",
   "execution_count": 7,
   "metadata": {},
   "outputs": [
    {
     "name": "stdout",
     "output_type": "stream",
     "text": [
      "T-statistic: 111.89928138308288\n",
      "P-value: 0.0\n"
     ]
    }
   ],
   "source": [
    "from scipy.stats import ttest_1samp\n",
    "\n",
    "# Perform one-sample t-test\n",
    "t_stat, p_value = ttest_1samp(data['hours'], 40)\n",
    "\n",
    "# Display the results\n",
    "print(f\"T-statistic: {t_stat}\")\n",
    "print(f\"P-value: {p_value}\")"
   ]
  },
  {
   "cell_type": "markdown",
   "metadata": {},
   "source": [
    "Here, we see that the t-stat is very high $implies$ a very low p value. Suppose we use a 95% significance level, we see that we will reject the null hypothesis. "
   ]
  },
  {
   "cell_type": "markdown",
   "metadata": {},
   "source": [
    "## Two-Sample $t$-test"
   ]
  },
  {
   "cell_type": "markdown",
   "metadata": {},
   "source": [
    "Let us try and look at the average number of hours worked by gender."
   ]
  },
  {
   "cell_type": "code",
   "execution_count": 8,
   "metadata": {},
   "outputs": [
    {
     "data": {
      "image/png": "[encoded data removed]",
      "text/plain": [
       "<Figure size 640x480 with 1 Axes>"
      ]
     },
     "metadata": {},
     "output_type": "display_data"
    }
   ],
   "source": [
    "# Calculate average hours worked by gender\n",
    "avg_hours_by_gender = data.groupby('female')['hours'].mean()\n",
    "\n",
    "# Plot the bar chart\n",
    "avg_hours_by_gender.plot(kind='bar', color=['blue', 'pink'], legend=False)\n",
    "plt.title('Average Hours Worked by Gender')\n",
    "plt.xlabel('Gender (0 = Male, 1 = Female)')\n",
    "plt.ylabel('Average Hours Worked')\n",
    "plt.xticks(ticks=[0, 1], labels=['Male', 'Female'], rotation=0)\n",
    "plt.show()"
   ]
  },
  {
   "cell_type": "markdown",
   "metadata": {},
   "source": [
    "Notice that, based on the graph, it appears males have on average higher working hours than women. But we need to formalize this with a test.\n",
    "\n",
    "$$H_0: \\mu_m = \\mu_f$$\n",
    "$$H_a: \\mu_m \\neq \\mu_f$$\n",
    "\n",
    "My null hypothesis states that the average hours worked by males $\\mu_m$ is equal to the average number of hours worked by females $\\mu_f$"
   ]
  },
  {
   "cell_type": "code",
   "execution_count": 25,
   "metadata": {},
   "outputs": [
    {
     "name": "stdout",
     "output_type": "stream",
     "text": [
      "T-statistic: 39.78489011605316\n",
      "P-value: 0.0\n"
     ]
    }
   ],
   "source": [
    "from scipy.stats import ttest_ind\n",
    "\n",
    "# Separate hours worked by gender\n",
    "male_hours = data[data['female'] == 0]['hours']\n",
    "female_hours = data[data['female'] == 1]['hours']\n",
    "\n",
    "# Perform two-sample t-test\n",
    "t_stat, p_value = ttest_ind(male_hours, female_hours, equal_var=False)\n",
    "\n",
    "# Display the results\n",
    "print(f\"T-statistic: {t_stat}\")\n",
    "print(f\"P-value: {p_value}\")"
   ]
  },
  {
   "cell_type": "markdown",
   "metadata": {},
   "source": [
    "Since the p-value is very low and the t-stat is very high, we reject the null hypothesis that the average hours worked between male and female is the same. As such, we have evidence to believe that there is some difference in the average hours. What about income?"
   ]
  },
  {
   "cell_type": "code",
   "execution_count": 26,
   "metadata": {},
   "outputs": [
    {
     "name": "stdout",
     "output_type": "stream",
     "text": [
      "T-statistic (Earnings): 43.9266197324469\n",
      "P-value (Earnings): 0.0\n"
     ]
    }
   ],
   "source": [
    "# Separate earnings by gender\n",
    "male_earnings = data[data['female'] == 0]['earnings']\n",
    "female_earnings = data[data['female'] == 1]['earnings']\n",
    "\n",
    "# Perform two-sample t-test\n",
    "t_stat_earnings, p_value_earnings = ttest_ind(male_earnings, female_earnings, equal_var=False)\n",
    "\n",
    "# Display the results\n",
    "print(f\"T-statistic (Earnings): {t_stat_earnings}\")\n",
    "print(f\"P-value (Earnings): {p_value_earnings}\")"
   ]
  },
  {
   "cell_type": "markdown",
   "metadata": {},
   "source": [
    "We see an even more higher t-stat of the null hypothesis in this case. Graphing the data will backup the result"
   ]
  },
  {
   "cell_type": "code",
   "execution_count": 27,
   "metadata": {},
   "outputs": [
    {
     "data": {
      "image/png": "[encoded data removed]",
      "text/plain": [
       "<Figure size 640x480 with 1 Axes>"
      ]
     },
     "metadata": {},
     "output_type": "display_data"
    }
   ],
   "source": [
    "# Calculate average earnings by gender\n",
    "avg_earnings_by_gender = data.groupby('female')['earnings'].mean()\n",
    "\n",
    "# Plot the bar chart\n",
    "avg_earnings_by_gender.plot(kind='bar', color=['blue', 'pink'], legend=False)\n",
    "plt.title('Average Earnings by Gender')\n",
    "plt.xlabel('Gender (0 = Male, 1 = Female)')\n",
    "plt.ylabel('Average Earnings')\n",
    "plt.xticks(ticks=[0, 1], labels=['Male', 'Female'], rotation=0)\n",
    "plt.show()"
   ]
  },
  {
   "cell_type": "markdown",
   "metadata": {},
   "source": [
    "## Two Sample Proportion Test"
   ]
  },
  {
   "cell_type": "markdown",
   "metadata": {},
   "source": [
    "Suppose I want to look at the proportion of people who work more than 40 hours a week. Let's called these people over worked (i.e. stressed)."
   ]
  },
  {
   "cell_type": "code",
   "execution_count": 12,
   "metadata": {},
   "outputs": [
    {
     "data": {
      "text/html": [
       "<div>\n",
       "<style scoped>\n",
       "    .dataframe tbody tr th:only-of-type {\n",
       "        vertical-align: middle;\n",
       "    }\n",
       "\n",
       "    .dataframe tbody tr th {\n",
       "        vertical-align: top;\n",
       "    }\n",
       "\n",
       "    .dataframe thead th {\n",
       "        text-align: right;\n",
       "    }\n",
       "</style>\n",
       "<table border=\"1\" class=\"dataframe\">\n",
       "  <thead>\n",
       "    <tr style=\"text-align: right;\">\n",
       "      <th></th>\n",
       "      <th>hours</th>\n",
       "      <th>overworked</th>\n",
       "    </tr>\n",
       "  </thead>\n",
       "  <tbody>\n",
       "    <tr>\n",
       "      <th>0</th>\n",
       "      <td>45</td>\n",
       "      <td>1</td>\n",
       "    </tr>\n",
       "    <tr>\n",
       "      <th>1</th>\n",
       "      <td>45</td>\n",
       "      <td>1</td>\n",
       "    </tr>\n",
       "    <tr>\n",
       "      <th>2</th>\n",
       "      <td>40</td>\n",
       "      <td>0</td>\n",
       "    </tr>\n",
       "    <tr>\n",
       "      <th>3</th>\n",
       "      <td>40</td>\n",
       "      <td>0</td>\n",
       "    </tr>\n",
       "    <tr>\n",
       "      <th>4</th>\n",
       "      <td>50</td>\n",
       "      <td>1</td>\n",
       "    </tr>\n",
       "  </tbody>\n",
       "</table>\n",
       "</div>"
      ],
      "text/plain": [
       "   hours  overworked\n",
       "0     45           1\n",
       "1     45           1\n",
       "2     40           0\n",
       "3     40           0\n",
       "4     50           1"
      ]
     },
     "execution_count": 12,
     "metadata": {},
     "output_type": "execute_result"
    }
   ],
   "source": [
    "# Create a new variable 'over' indicating if hours > 40\n",
    "data['overworked'] = (data['hours'] > 40).astype(int)\n",
    "data[['hours', 'overworked']].head()"
   ]
  },
  {
   "cell_type": "markdown",
   "metadata": {},
   "source": [
    "We can compare the proportion of males who are overworked $p_m$ versus the proportion of females $p_f$ that are overworked. Suppose let's state an initial claim that the proportion of males and females that are overworked are the same. Hence, we can form the hypothesis below"
   ]
  },
  {
   "cell_type": "markdown",
   "metadata": {},
   "source": [
    "$$H_0: p_m = p_f$$\n",
    "$$H_a: p_m \\neq p_f$$\n",
    "\n",
    "Analogously, this is equivalent to \n",
    "\n",
    "$$H_0: p_m - p_f = 0$$\n",
    "$$H_a: p_m - p_f \\neq 0$$"
   ]
  },
  {
   "cell_type": "markdown",
   "metadata": {},
   "source": [
    "To better visualize this, we can generate a frequency table."
   ]
  },
  {
   "cell_type": "code",
   "execution_count": 16,
   "metadata": {},
   "outputs": [
    {
     "name": "stdout",
     "output_type": "stream",
     "text": [
      "Female          0      1    All\n",
      "Overworked                     \n",
      "0           17938  16722  34660\n",
      "1           11202   4880  16082\n",
      "All         29140  21602  50742\n"
     ]
    }
   ],
   "source": [
    "# Generate a frequency table for 'overworked' and 'female' with row and column sums\n",
    "frequency_table_with_totals = pd.crosstab(data['overworked'], data['female'], rownames=['Overworked'], colnames=['Female'], margins=True)\n",
    "print(frequency_table_with_totals)"
   ]
  },
  {
   "cell_type": "markdown",
   "metadata": {},
   "source": [
    "From here, we can calculate the proportions"
   ]
  },
  {
   "cell_type": "code",
   "execution_count": 17,
   "metadata": {},
   "outputs": [
    {
     "name": "stdout",
     "output_type": "stream",
     "text": [
      "Female             0         1       All\n",
      "Overworked                              \n",
      "0           0.353514  0.329549  0.683063\n",
      "1           0.220764  0.096173  0.316937\n",
      "All         0.574278  0.425722  1.000000\n"
     ]
    }
   ],
   "source": [
    "# Generate a table with proportions for 'overworked' and 'female'\n",
    "proportion_table = frequency_table_with_totals.div(frequency_table_with_totals.loc['All', 'All'])\n",
    "print(proportion_table)"
   ]
  },
  {
   "cell_type": "markdown",
   "metadata": {},
   "source": [
    "Clearly, 22.08% of males are overworked while only 9.62% of females are overworked"
   ]
  },
  {
   "cell_type": "markdown",
   "metadata": {},
   "source": [
    "To test if the difference is statistically significant, we can do a test of two sample proportions"
   ]
  },
  {
   "cell_type": "code",
   "execution_count": 18,
   "metadata": {},
   "outputs": [
    {
     "name": "stdout",
     "output_type": "stream",
     "text": [
      "Z-statistic: 37.94562327861474\n",
      "P-value: 0.0\n"
     ]
    }
   ],
   "source": [
    "from statsmodels.stats.proportion import proportions_ztest\n",
    "\n",
    "# Extract counts of overworked males and females\n",
    "count = [frequency_table_with_totals.loc[1, 0], frequency_table_with_totals.loc[1, 1]]\n",
    "\n",
    "# Extract total counts of males and females\n",
    "nobs = [frequency_table_with_totals.loc['All', 0], frequency_table_with_totals.loc['All', 1]]\n",
    "\n",
    "# Perform the two-sample proportion z-test\n",
    "z_stat, p_value = proportions_ztest(count, nobs)\n",
    "\n",
    "# Display the results\n",
    "print(f\"Z-statistic: {z_stat}\")\n",
    "print(f\"P-value: {p_value}\")"
   ]
  },
  {
   "cell_type": "markdown",
   "metadata": {},
   "source": [
    "Since the p-value is very low and the z-stat is very high, we reject the null hypothesis that the proportions are equal and conclude that there is sufficient evidence to show that the proportion of males overworked is statistically different that the proportion of females overworked."
   ]
  },
  {
   "cell_type": "markdown",
   "metadata": {},
   "source": [
    "## Chi-Squared Test"
   ]
  },
  {
   "cell_type": "markdown",
   "metadata": {},
   "source": [
    "The example above deals with explicitly two possible options (female or male). But suppose you wanted to compare the \"overworked\" variable across region. Note that, based on the codebook, we have 4 possible regions. Northwest, Midwest, South, and West "
   ]
  },
  {
   "cell_type": "code",
   "execution_count": 20,
   "metadata": {},
   "outputs": [],
   "source": [
    "# Recode the 'region' variable\n",
    "data['region'] = data['region'].replace({1: 'Northwest', 2: 'Midwest', 3: 'South', 4: 'West'})"
   ]
  },
  {
   "cell_type": "markdown",
   "metadata": {},
   "source": [
    "From here, let us generate another frequency table"
   ]
  },
  {
   "cell_type": "code",
   "execution_count": null,
   "metadata": {},
   "outputs": [
    {
     "name": "stdout",
     "output_type": "stream",
     "text": [
      "Region      Midwest  Northwest  South   West    All\n",
      "Overworked                                         \n",
      "0              7950       6356  11346   9008  34660\n",
      "1              4075       3343   4738   3926  16082\n",
      "All           12025       9699  16084  12934  50742\n"
     ]
    }
   ],
   "source": [
    "# Transpose the frequency table to have regions on the left and overworked on top\n",
    "frequency_table_region_transposed = frequency_table_region.T\n",
    "print(frequency_table_region_transposed)"
   ]
  },
  {
   "cell_type": "markdown",
   "metadata": {},
   "source": [
    "As before, from here, we can compute the proportions"
   ]
  },
  {
   "cell_type": "code",
   "execution_count": 23,
   "metadata": {},
   "outputs": [
    {
     "name": "stdout",
     "output_type": "stream",
     "text": [
      "Region       Midwest  Northwest     South      West  All\n",
      "Overworked                                              \n",
      "0           0.229371   0.183381  0.327351  0.259896  1.0\n",
      "1           0.253389   0.207872  0.294615  0.244124  1.0\n",
      "All         0.236983   0.191143  0.316976  0.254897  1.0\n"
     ]
    }
   ],
   "source": [
    "# Generate a frequency table of proportions for 'region' and 'overworked'\n",
    "proportion_table_region = frequency_table_region.div(frequency_table_region['All'], axis=0)\n",
    "print(proportion_table_region)"
   ]
  },
  {
   "cell_type": "markdown",
   "metadata": {},
   "source": [
    "It appears that the Northwest (20.79%) has the lowest amount of people overworked while most people in the South (29.47%) are"
   ]
  },
  {
   "cell_type": "markdown",
   "metadata": {},
   "source": [
    "To test if there is a significant difference in the proportion across regions, we can use a Chi-squared test"
   ]
  },
  {
   "cell_type": "code",
   "execution_count": 24,
   "metadata": {},
   "outputs": [
    {
     "name": "stdout",
     "output_type": "stream",
     "text": [
      "Chi-squared Statistic: 109.06978817413061\n",
      "P-value: 1.739871441323308e-23\n",
      "Degrees of Freedom: 3\n",
      "Expected Frequencies:\n",
      "[[ 8213.83666391  6625.03133499 10986.39076111  8834.74124   ]\n",
      " [ 3811.16333609  3073.96866501  5097.60923889  4099.25876   ]]\n"
     ]
    }
   ],
   "source": [
    "from scipy.stats import chi2_contingency\n",
    "\n",
    "# Perform Chi-squared test\n",
    "chi2_stat, p_value, dof, expected = chi2_contingency(frequency_table_region.iloc[:-1, :-1])\n",
    "\n",
    "# Display the results\n",
    "print(f\"Chi-squared Statistic: {chi2_stat}\")\n",
    "print(f\"P-value: {p_value}\")\n",
    "print(f\"Degrees of Freedom: {dof}\")\n",
    "print(\"Expected Frequencies:\")\n",
    "print(expected)"
   ]
  },
  {
   "cell_type": "markdown",
   "metadata": {},
   "source": [
    "Here, we see that there is evidence that there is a significant difference in the proportions overworked across regions given that the p-value is very low and the chi-squared statsitic is very high."
   ]
  }
 ],
 "metadata": {
  "kernelspec": {
   "display_name": "Python 3",
   "language": "python",
   "name": "python3"
  },
  "language_info": {
   "codemirror_mode": {
    "name": "ipython",
    "version": 3
   },
   "file_extension": ".py",
   "mimetype": "text/x-python",
   "name": "python",
   "nbconvert_exporter": "python",
   "pygments_lexer": "ipython3",
   "version": "3.13.0"
  }
 },
 "nbformat": 4,
 "nbformat_minor": 2
}
